{
 "cells": [
  {
   "cell_type": "markdown",
   "metadata": {},
   "source": [
    "## Load the business users file to a dataframe"
   ]
  },
  {
   "cell_type": "code",
   "execution_count": 1,
   "metadata": {
    "collapsed": false
   },
   "outputs": [],
   "source": [
    "df_bus = sqlContext.read.format(\"com.databricks.spark.csv\").option(\"header\", \"true\").option(\"inferschema\", \"true\").load(\"yelp_business.csv\")"
   ]
  },
  {
   "cell_type": "code",
   "execution_count": 2,
   "metadata": {
    "collapsed": true
   },
   "outputs": [],
   "source": [
    "df_bus = df_bus.withColumnRenamed(\"name\", \"business_name\").withColumnRenamed(\"business_id\", \"bus_business_id\")"
   ]
  },
  {
   "cell_type": "code",
   "execution_count": 3,
   "metadata": {
    "collapsed": false
   },
   "outputs": [
    {
     "name": "stdout",
     "output_type": "stream",
     "text": [
      "root\n",
      " |-- bus_business_id: string (nullable = true)\n",
      " |-- business_name: string (nullable = true)\n",
      " |-- neighborhood: string (nullable = true)\n",
      " |-- address: string (nullable = true)\n",
      " |-- city: string (nullable = true)\n",
      " |-- state: string (nullable = true)\n",
      " |-- postal_code: string (nullable = true)\n",
      " |-- latitude: double (nullable = true)\n",
      " |-- longitude: double (nullable = true)\n",
      " |-- stars: double (nullable = true)\n",
      " |-- review_count: integer (nullable = true)\n",
      " |-- is_open: integer (nullable = true)\n",
      " |-- categories: string (nullable = true)\n",
      "\n"
     ]
    }
   ],
   "source": [
    "df_bus.printSchema()"
   ]
  },
  {
   "cell_type": "markdown",
   "metadata": {},
   "source": [
    "### Convert the yelp review files by removing new lines in the comments"
   ]
  },
  {
   "cell_type": "code",
   "execution_count": 5,
   "metadata": {
    "collapsed": true
   },
   "outputs": [],
   "source": [
    "%%bash\n",
    "\n",
    "awk '/^\"/ {if (f) print f; f=$0; next} {f=f FS $0} END {print f}' yelp_review.csv > yelp_review_fi.csv\n"
   ]
  },
  {
   "cell_type": "code",
   "execution_count": 6,
   "metadata": {
    "collapsed": false
   },
   "outputs": [
    {
     "name": "stderr",
     "output_type": "stream",
     "text": [
      "copyFromLocal: `yelp_review_fi.csv': File exists\n"
     ]
    }
   ],
   "source": [
    "%%bash\n",
    "hdfs dfs -copyFromLocal /home/kkanagalananthapadm1/Scalable_Data/yelp_review_fi.csv"
   ]
  },
  {
   "cell_type": "markdown",
   "metadata": {
    "collapsed": false
   },
   "source": [
    "## Load the cleaned review file to a dataframe"
   ]
  },
  {
   "cell_type": "code",
   "execution_count": 4,
   "metadata": {
    "collapsed": false
   },
   "outputs": [],
   "source": [
    "df_rev = sqlContext.read.format(\"com.databricks.spark.csv\").option(\"header\", \"true\").option(\"inferschema\", \"true\").load(\"yelp_review_fi.csv\")"
   ]
  },
  {
   "cell_type": "code",
   "execution_count": 5,
   "metadata": {
    "collapsed": false
   },
   "outputs": [],
   "source": [
    "df_rev = df_rev.withColumnRenamed(\"stars\", \"review_stars\").withColumnRenamed(\"useful\", \"review_useful\").withColumnRenamed(\"date\", \"review_date\").withColumnRenamed(\"cool\", \"review_cool\").withColumnRenamed(\"funny\", \"review_funny\")"
   ]
  },
  {
   "cell_type": "code",
   "execution_count": 6,
   "metadata": {
    "collapsed": false
   },
   "outputs": [
    {
     "data": {
      "text/plain": [
       "['review_id',\n",
       " 'user_id',\n",
       " 'business_id',\n",
       " 'review_stars',\n",
       " 'review_date',\n",
       " 'text',\n",
       " 'review_useful',\n",
       " 'review_funny',\n",
       " 'review_cool']"
      ]
     },
     "execution_count": 6,
     "metadata": {},
     "output_type": "execute_result"
    }
   ],
   "source": [
    "df_rev.columns"
   ]
  },
  {
   "cell_type": "markdown",
   "metadata": {
    "collapsed": true
   },
   "source": [
    "## Load the users file to a dataframe"
   ]
  },
  {
   "cell_type": "code",
   "execution_count": 7,
   "metadata": {
    "collapsed": false
   },
   "outputs": [],
   "source": [
    "df_user = sqlContext.read.format(\"com.databricks.spark.csv\").option(\"header\", \"true\").option(\"inferschema\", \"true\").load(\"yelp_user.csv\")"
   ]
  },
  {
   "cell_type": "code",
   "execution_count": 8,
   "metadata": {
    "collapsed": false
   },
   "outputs": [],
   "source": [
    "df_user = df_user.withColumnRenamed(\"name\", \"user_name\").withColumnRenamed(\"cool\", \"user_cool\").withColumnRenamed(\"funny\", \"user_funny\").withColumnRenamed(\"useful\", \"user_useful\").withColumnRenamed(\"user_id\", \"user_user_id\")"
   ]
  },
  {
   "cell_type": "code",
   "execution_count": 9,
   "metadata": {
    "collapsed": false
   },
   "outputs": [
    {
     "data": {
      "text/plain": [
       "['user_user_id',\n",
       " 'user_name',\n",
       " 'review_count',\n",
       " 'yelping_since',\n",
       " 'friends',\n",
       " 'user_useful',\n",
       " 'user_funny',\n",
       " 'user_cool',\n",
       " 'fans',\n",
       " 'elite',\n",
       " 'average_stars',\n",
       " 'compliment_hot',\n",
       " 'compliment_more',\n",
       " 'compliment_profile',\n",
       " 'compliment_cute',\n",
       " 'compliment_list',\n",
       " 'compliment_note',\n",
       " 'compliment_plain',\n",
       " 'compliment_cool',\n",
       " 'compliment_funny',\n",
       " 'compliment_writer',\n",
       " 'compliment_photos']"
      ]
     },
     "execution_count": 9,
     "metadata": {},
     "output_type": "execute_result"
    }
   ],
   "source": [
    "df_user.columns"
   ]
  },
  {
   "cell_type": "markdown",
   "metadata": {},
   "source": [
    "## Check for null values in the 3 dataframes and remove null values if any"
   ]
  },
  {
   "cell_type": "code",
   "execution_count": 10,
   "metadata": {
    "collapsed": false
   },
   "outputs": [
    {
     "name": "stdout",
     "output_type": "stream",
     "text": [
      "+------------+---------+------------+-------------+-------+-----------+----------+---------+----+-----+-------------+--------------+---------------+------------------+---------------+---------------+---------------+----------------+---------------+----------------+-----------------+-----------------+\n",
      "|user_user_id|user_name|review_count|yelping_since|friends|user_useful|user_funny|user_cool|fans|elite|average_stars|compliment_hot|compliment_more|compliment_profile|compliment_cute|compliment_list|compliment_note|compliment_plain|compliment_cool|compliment_funny|compliment_writer|compliment_photos|\n",
      "+------------+---------+------------+-------------+-------+-----------+----------+---------+----+-----+-------------+--------------+---------------+------------------+---------------+---------------+---------------+----------------+---------------+----------------+-----------------+-----------------+\n",
      "|           0|        0|           0|            0|      0|          0|         0|        0|   0|    0|            0|             0|              0|                 0|              0|              0|              0|               0|              0|               0|                0|                0|\n",
      "+------------+---------+------------+-------------+-------+-----------+----------+---------+----+-----+-------------+--------------+---------------+------------------+---------------+---------------+---------------+----------------+---------------+----------------+-----------------+-----------------+\n",
      "\n"
     ]
    }
   ],
   "source": [
    "from pyspark.sql.functions import isnan, when, count, col\n",
    "#df_user.select([count(when(isnan(c), c)).alias(c) for c in df_user.columns]).show()\n",
    "df_user.select([count(when(isnan(c) | col(c).isNull(), c)).alias(c) for c in df_user.columns]).show()"
   ]
  },
  {
   "cell_type": "code",
   "execution_count": 11,
   "metadata": {
    "collapsed": false
   },
   "outputs": [
    {
     "name": "stdout",
     "output_type": "stream",
     "text": [
      "+---------+-------+-----------+------------+-----------+----+-------------+------------+-----------+\n",
      "|review_id|user_id|business_id|review_stars|review_date|text|review_useful|review_funny|review_cool|\n",
      "+---------+-------+-----------+------------+-----------+----+-------------+------------+-----------+\n",
      "|        0|   1674|       1890|        2057|       2365|2569|         2712|        2808|       2856|\n",
      "+---------+-------+-----------+------------+-----------+----+-------------+------------+-----------+\n",
      "\n"
     ]
    }
   ],
   "source": [
    "from pyspark.sql.functions import isnan, when, count, col\n",
    "#df_user.select([count(when(isnan(c), c)).alias(c) for c in df_user.columns]).show()\n",
    "df_rev.select([count(when(isnan(c) | col(c).isNull(), c)).alias(c) for c in df_rev.columns]).show()"
   ]
  },
  {
   "cell_type": "code",
   "execution_count": 12,
   "metadata": {
    "collapsed": true
   },
   "outputs": [],
   "source": [
    "df_rev = df_rev.na.drop()"
   ]
  },
  {
   "cell_type": "code",
   "execution_count": 13,
   "metadata": {
    "collapsed": false
   },
   "outputs": [
    {
     "name": "stdout",
     "output_type": "stream",
     "text": [
      "+---------+-------+-----------+------------+-----------+----+-------------+------------+-----------+\n",
      "|review_id|user_id|business_id|review_stars|review_date|text|review_useful|review_funny|review_cool|\n",
      "+---------+-------+-----------+------------+-----------+----+-------------+------------+-----------+\n",
      "|        0|      0|          0|           0|          0|   0|            0|           0|          0|\n",
      "+---------+-------+-----------+------------+-----------+----+-------------+------------+-----------+\n",
      "\n"
     ]
    }
   ],
   "source": [
    "df_rev.select([count(when(isnan(c) | col(c).isNull(), c)).alias(c) for c in df_rev.columns]).show()"
   ]
  },
  {
   "cell_type": "code",
   "execution_count": 14,
   "metadata": {
    "collapsed": false
   },
   "outputs": [
    {
     "name": "stdout",
     "output_type": "stream",
     "text": [
      "+---------------+-------------+------------+-------+----+-----+-----------+--------+---------+-----+------------+-------+----------+\n",
      "|bus_business_id|business_name|neighborhood|address|city|state|postal_code|latitude|longitude|stars|review_count|is_open|categories|\n",
      "+---------------+-------------+------------+-------+----+-----+-----------+--------+---------+-----+------------+-------+----------+\n",
      "|              0|            0|           0|      0|   0|    0|          0|       1|        1|    0|           0|      0|         0|\n",
      "+---------------+-------------+------------+-------+----+-----+-----------+--------+---------+-----+------------+-------+----------+\n",
      "\n"
     ]
    }
   ],
   "source": [
    "df_bus.select([count(when(isnan(c) | col(c).isNull(), c)).alias(c) for c in df_bus.columns]).show()"
   ]
  },
  {
   "cell_type": "code",
   "execution_count": 15,
   "metadata": {
    "collapsed": true
   },
   "outputs": [],
   "source": [
    "df_bus = df_bus.na.drop()"
   ]
  },
  {
   "cell_type": "code",
   "execution_count": 16,
   "metadata": {
    "collapsed": false
   },
   "outputs": [
    {
     "name": "stdout",
     "output_type": "stream",
     "text": [
      "+---------------+-------------+------------+-------+----+-----+-----------+--------+---------+-----+------------+-------+----------+\n",
      "|bus_business_id|business_name|neighborhood|address|city|state|postal_code|latitude|longitude|stars|review_count|is_open|categories|\n",
      "+---------------+-------------+------------+-------+----+-----+-----------+--------+---------+-----+------------+-------+----------+\n",
      "|              0|            0|           0|      0|   0|    0|          0|       0|        0|    0|           0|      0|         0|\n",
      "+---------------+-------------+------------+-------+----+-----+-----------+--------+---------+-----+------------+-------+----------+\n",
      "\n"
     ]
    }
   ],
   "source": [
    "df_bus.select([count(when(isnan(c) | col(c).isNull(), c)).alias(c) for c in df_bus.columns]).show()"
   ]
  },
  {
   "cell_type": "markdown",
   "metadata": {},
   "source": [
    "## Join the 3 files to create meta table"
   ]
  },
  {
   "cell_type": "code",
   "execution_count": 17,
   "metadata": {
    "collapsed": false
   },
   "outputs": [],
   "source": [
    "df_bus_rev = df_bus.join(df_rev,df_rev.business_id==df_bus.bus_business_id)"
   ]
  },
  {
   "cell_type": "code",
   "execution_count": 18,
   "metadata": {
    "collapsed": false
   },
   "outputs": [],
   "source": [
    "df_bus_rev_user = df_bus_rev.join(df_user,df_bus_rev.user_id==df_user.user_user_id)"
   ]
  },
  {
   "cell_type": "code",
   "execution_count": 19,
   "metadata": {
    "collapsed": false
   },
   "outputs": [
    {
     "name": "stdout",
     "output_type": "stream",
     "text": [
      "root\n",
      " |-- bus_business_id: string (nullable = true)\n",
      " |-- business_name: string (nullable = true)\n",
      " |-- neighborhood: string (nullable = true)\n",
      " |-- address: string (nullable = true)\n",
      " |-- city: string (nullable = true)\n",
      " |-- state: string (nullable = true)\n",
      " |-- postal_code: string (nullable = true)\n",
      " |-- latitude: double (nullable = true)\n",
      " |-- longitude: double (nullable = true)\n",
      " |-- stars: double (nullable = true)\n",
      " |-- review_count: integer (nullable = true)\n",
      " |-- is_open: integer (nullable = true)\n",
      " |-- categories: string (nullable = true)\n",
      " |-- review_id: string (nullable = true)\n",
      " |-- user_id: string (nullable = true)\n",
      " |-- business_id: string (nullable = true)\n",
      " |-- review_stars: string (nullable = true)\n",
      " |-- review_date: string (nullable = true)\n",
      " |-- text: string (nullable = true)\n",
      " |-- review_useful: string (nullable = true)\n",
      " |-- review_funny: string (nullable = true)\n",
      " |-- review_cool: string (nullable = true)\n",
      " |-- user_user_id: string (nullable = true)\n",
      " |-- user_name: string (nullable = true)\n",
      " |-- review_count: integer (nullable = true)\n",
      " |-- yelping_since: string (nullable = true)\n",
      " |-- friends: string (nullable = true)\n",
      " |-- user_useful: integer (nullable = true)\n",
      " |-- user_funny: integer (nullable = true)\n",
      " |-- user_cool: integer (nullable = true)\n",
      " |-- fans: integer (nullable = true)\n",
      " |-- elite: string (nullable = true)\n",
      " |-- average_stars: double (nullable = true)\n",
      " |-- compliment_hot: integer (nullable = true)\n",
      " |-- compliment_more: integer (nullable = true)\n",
      " |-- compliment_profile: integer (nullable = true)\n",
      " |-- compliment_cute: integer (nullable = true)\n",
      " |-- compliment_list: integer (nullable = true)\n",
      " |-- compliment_note: integer (nullable = true)\n",
      " |-- compliment_plain: integer (nullable = true)\n",
      " |-- compliment_cool: integer (nullable = true)\n",
      " |-- compliment_funny: integer (nullable = true)\n",
      " |-- compliment_writer: integer (nullable = true)\n",
      " |-- compliment_photos: integer (nullable = true)\n",
      "\n"
     ]
    }
   ],
   "source": [
    "df_bus_rev_user.printSchema()"
   ]
  },
  {
   "cell_type": "code",
   "execution_count": 24,
   "metadata": {
    "collapsed": false
   },
   "outputs": [
    {
     "data": {
      "text/plain": [
       "['bus_business_id',\n",
       " 'business_name',\n",
       " 'neighborhood',\n",
       " 'address',\n",
       " 'city',\n",
       " 'state',\n",
       " 'postal_code',\n",
       " 'latitude',\n",
       " 'longitude',\n",
       " 'stars',\n",
       " 'review_count',\n",
       " 'is_open',\n",
       " 'categories',\n",
       " 'review_id',\n",
       " 'user_id',\n",
       " 'business_id',\n",
       " 'review_stars',\n",
       " 'review_date',\n",
       " 'text',\n",
       " 'review_useful',\n",
       " 'review_funny',\n",
       " 'review_cool',\n",
       " 'user_user_id',\n",
       " 'user_name',\n",
       " 'review_count',\n",
       " 'yelping_since',\n",
       " 'friends',\n",
       " 'user_useful',\n",
       " 'user_funny',\n",
       " 'user_cool',\n",
       " 'fans',\n",
       " 'elite',\n",
       " 'average_stars',\n",
       " 'compliment_hot',\n",
       " 'compliment_more',\n",
       " 'compliment_profile',\n",
       " 'compliment_cute',\n",
       " 'compliment_list',\n",
       " 'compliment_note',\n",
       " 'compliment_plain',\n",
       " 'compliment_cool',\n",
       " 'compliment_funny',\n",
       " 'compliment_writer',\n",
       " 'compliment_photos']"
      ]
     },
     "execution_count": 24,
     "metadata": {},
     "output_type": "execute_result"
    }
   ],
   "source": [
    "df_bus_rev_user.columns"
   ]
  },
  {
   "cell_type": "markdown",
   "metadata": {},
   "source": [
    "## Save the metatable as a csv with only one partition"
   ]
  },
  {
   "cell_type": "code",
   "execution_count": 26,
   "metadata": {
    "collapsed": true
   },
   "outputs": [],
   "source": [
    "df_bus_rev_user.repartition(1).write.format(\"com.databricks.spark.csv\").option(\"header\", \"true\").save(\"final_merged_data.csv\")"
   ]
  }
 ],
 "metadata": {
  "kernelspec": {
   "display_name": "PySpark 1.6.1 - Cluster",
   "language": "python",
   "name": "pyspark"
  },
  "language_info": {
   "codemirror_mode": {
    "name": "ipython",
    "version": 2
   },
   "file_extension": ".py",
   "mimetype": "text/x-python",
   "name": "python",
   "nbconvert_exporter": "python",
   "pygments_lexer": "ipython2",
   "version": "2.7.5"
  }
 },
 "nbformat": 4,
 "nbformat_minor": 2
}
